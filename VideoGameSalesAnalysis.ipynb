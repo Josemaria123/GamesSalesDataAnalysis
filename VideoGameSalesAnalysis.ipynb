{
  "nbformat": 4,
  "nbformat_minor": 0,
  "metadata": {
    "colab": {
      "name": "VideoGameSalesAnalysis.ipynb",
      "provenance": [],
      "collapsed_sections": []
    },
    "kernelspec": {
      "name": "python3",
      "display_name": "Python 3"
    }
  },
  "cells": [
    {
      "cell_type": "markdown",
      "metadata": {
        "id": "jLC7IiAkRqXK"
      },
      "source": [
        "#Que vamos a hacer?\n",
        "\n",
        "## Responder las siguientes preguntas:\n",
        "\n",
        "### 1. What are the most popular game, genre, publisher, and platform of all time?\n",
        "\n",
        "### 2. What are the most popular game in each region (i.e. North America, Europe, and Japan)?\n",
        "\n",
        "### 3. What is the trend of video games' global sales of all time?\n",
        "\n"
      ]
    },
    {
      "cell_type": "markdown",
      "metadata": {
        "id": "S_exjr2tSjDn"
      },
      "source": [
        "Importamos los Datos\n"
      ]
    },
    {
      "cell_type": "code",
      "metadata": {
        "colab": {
          "base_uri": "https://localhost:8080/",
          "height": 204
        },
        "id": "Ub2CthchRh7d",
        "outputId": "2acf6dd5-0b0f-4223-879c-f5cc47b1e6fa"
      },
      "source": [
        "import pandas as pd\n",
        "import matplotlib.pyplot as plt\n",
        "\n",
        "df = pd.read_csv(\"vgsales.csv\")\n",
        "\n",
        "df.head()"
      ],
      "execution_count": 56,
      "outputs": [
        {
          "output_type": "execute_result",
          "data": {
            "text/html": [
              "<div>\n",
              "<style scoped>\n",
              "    .dataframe tbody tr th:only-of-type {\n",
              "        vertical-align: middle;\n",
              "    }\n",
              "\n",
              "    .dataframe tbody tr th {\n",
              "        vertical-align: top;\n",
              "    }\n",
              "\n",
              "    .dataframe thead th {\n",
              "        text-align: right;\n",
              "    }\n",
              "</style>\n",
              "<table border=\"1\" class=\"dataframe\">\n",
              "  <thead>\n",
              "    <tr style=\"text-align: right;\">\n",
              "      <th></th>\n",
              "      <th>Rank</th>\n",
              "      <th>Name</th>\n",
              "      <th>Platform</th>\n",
              "      <th>Year</th>\n",
              "      <th>Genre</th>\n",
              "      <th>Publisher</th>\n",
              "      <th>NA_Sales</th>\n",
              "      <th>EU_Sales</th>\n",
              "      <th>JP_Sales</th>\n",
              "      <th>Other_Sales</th>\n",
              "      <th>Global_Sales</th>\n",
              "    </tr>\n",
              "  </thead>\n",
              "  <tbody>\n",
              "    <tr>\n",
              "      <th>0</th>\n",
              "      <td>1</td>\n",
              "      <td>Wii Sports</td>\n",
              "      <td>Wii</td>\n",
              "      <td>2006.0</td>\n",
              "      <td>Sports</td>\n",
              "      <td>Nintendo</td>\n",
              "      <td>41.49</td>\n",
              "      <td>29.02</td>\n",
              "      <td>3.77</td>\n",
              "      <td>8.46</td>\n",
              "      <td>82.74</td>\n",
              "    </tr>\n",
              "    <tr>\n",
              "      <th>1</th>\n",
              "      <td>2</td>\n",
              "      <td>Super Mario Bros.</td>\n",
              "      <td>NES</td>\n",
              "      <td>1985.0</td>\n",
              "      <td>Platform</td>\n",
              "      <td>Nintendo</td>\n",
              "      <td>29.08</td>\n",
              "      <td>3.58</td>\n",
              "      <td>6.81</td>\n",
              "      <td>0.77</td>\n",
              "      <td>40.24</td>\n",
              "    </tr>\n",
              "    <tr>\n",
              "      <th>2</th>\n",
              "      <td>3</td>\n",
              "      <td>Mario Kart Wii</td>\n",
              "      <td>Wii</td>\n",
              "      <td>2008.0</td>\n",
              "      <td>Racing</td>\n",
              "      <td>Nintendo</td>\n",
              "      <td>15.85</td>\n",
              "      <td>12.88</td>\n",
              "      <td>3.79</td>\n",
              "      <td>3.31</td>\n",
              "      <td>35.82</td>\n",
              "    </tr>\n",
              "    <tr>\n",
              "      <th>3</th>\n",
              "      <td>4</td>\n",
              "      <td>Wii Sports Resort</td>\n",
              "      <td>Wii</td>\n",
              "      <td>2009.0</td>\n",
              "      <td>Sports</td>\n",
              "      <td>Nintendo</td>\n",
              "      <td>15.75</td>\n",
              "      <td>11.01</td>\n",
              "      <td>3.28</td>\n",
              "      <td>2.96</td>\n",
              "      <td>33.00</td>\n",
              "    </tr>\n",
              "    <tr>\n",
              "      <th>4</th>\n",
              "      <td>5</td>\n",
              "      <td>Pokemon Red/Pokemon Blue</td>\n",
              "      <td>GB</td>\n",
              "      <td>1996.0</td>\n",
              "      <td>Role-Playing</td>\n",
              "      <td>Nintendo</td>\n",
              "      <td>11.27</td>\n",
              "      <td>8.89</td>\n",
              "      <td>10.22</td>\n",
              "      <td>1.00</td>\n",
              "      <td>31.37</td>\n",
              "    </tr>\n",
              "  </tbody>\n",
              "</table>\n",
              "</div>"
            ],
            "text/plain": [
              "   Rank                      Name Platform  ...  JP_Sales Other_Sales Global_Sales\n",
              "0     1                Wii Sports      Wii  ...      3.77        8.46        82.74\n",
              "1     2         Super Mario Bros.      NES  ...      6.81        0.77        40.24\n",
              "2     3            Mario Kart Wii      Wii  ...      3.79        3.31        35.82\n",
              "3     4         Wii Sports Resort      Wii  ...      3.28        2.96        33.00\n",
              "4     5  Pokemon Red/Pokemon Blue       GB  ...     10.22        1.00        31.37\n",
              "\n",
              "[5 rows x 11 columns]"
            ]
          },
          "metadata": {
            "tags": []
          },
          "execution_count": 56
        }
      ]
    },
    {
      "cell_type": "markdown",
      "metadata": {
        "id": "WTa1rnpRTFaF"
      },
      "source": [
        "Contabilizamos los datos por columnas segun su plataforma, genero, publisher"
      ]
    },
    {
      "cell_type": "code",
      "metadata": {
        "colab": {
          "base_uri": "https://localhost:8080/"
        },
        "id": "V228nd88TEAP",
        "outputId": "0658f886-be3a-401a-97d9-53a9d15fe63d"
      },
      "source": [
        "print(df['Platform'].value_counts()) #imprime el numero de juegos segun la consola. Esto cuenta solo los valores que son unicos, no los repetidos\n",
        "print(df['Platform'].nunique()) # imprime la cantidad total de valores unicos de la columna Platform. 31 plataformas"
      ],
      "execution_count": null,
      "outputs": [
        {
          "output_type": "stream",
          "text": [
            "DS      2163\n",
            "PS2     2161\n",
            "PS3     1329\n",
            "Wii     1325\n",
            "X360    1265\n",
            "PSP     1213\n",
            "PS      1196\n",
            "PC       960\n",
            "XB       824\n",
            "GBA      822\n",
            "GC       556\n",
            "3DS      509\n",
            "PSV      413\n",
            "PS4      336\n",
            "N64      319\n",
            "SNES     239\n",
            "XOne     213\n",
            "SAT      173\n",
            "WiiU     143\n",
            "2600     133\n",
            "NES       98\n",
            "GB        98\n",
            "DC        52\n",
            "GEN       27\n",
            "NG        12\n",
            "WS         6\n",
            "SCD        6\n",
            "3DO        3\n",
            "TG16       2\n",
            "PCFX       1\n",
            "GG         1\n",
            "Name: Platform, dtype: int64\n",
            "31\n"
          ],
          "name": "stdout"
        }
      ]
    },
    {
      "cell_type": "code",
      "metadata": {
        "colab": {
          "base_uri": "https://localhost:8080/"
        },
        "id": "ipzyrDE5T1B0",
        "outputId": "08a15c5e-7ab0-4bfe-a25b-a67341fee57e"
      },
      "source": [
        "print(df['Genre'].value_counts()) #imprime la cantidad de juegos segun el genero del juego\n",
        "print(df['Genre'].nunique()) # 12 generos"
      ],
      "execution_count": null,
      "outputs": [
        {
          "output_type": "stream",
          "text": [
            "Action          3316\n",
            "Sports          2346\n",
            "Misc            1739\n",
            "Role-Playing    1488\n",
            "Shooter         1310\n",
            "Adventure       1286\n",
            "Racing          1249\n",
            "Platform         886\n",
            "Simulation       867\n",
            "Fighting         848\n",
            "Strategy         681\n",
            "Puzzle           582\n",
            "Name: Genre, dtype: int64\n",
            "12\n"
          ],
          "name": "stdout"
        }
      ]
    },
    {
      "cell_type": "code",
      "metadata": {
        "colab": {
          "base_uri": "https://localhost:8080/"
        },
        "id": "hu31cIZpUUZk",
        "outputId": "586949b3-1542-4f9b-adf2-efffc4bd4e83"
      },
      "source": [
        "print(df['Publisher'].value_counts()) #imprime la cantidad de juegos de cada uno de los publishers\n",
        "print(df['Publisher'].nunique()) # 578 fabricantes de juegos"
      ],
      "execution_count": null,
      "outputs": [
        {
          "output_type": "stream",
          "text": [
            "Electronic Arts                 1351\n",
            "Activision                       975\n",
            "Namco Bandai Games               932\n",
            "Ubisoft                          921\n",
            "Konami Digital Entertainment     832\n",
            "                                ... \n",
            "Ongakukan                          1\n",
            "Graphsim Entertainment             1\n",
            "The Learning Company               1\n",
            "Epic Games                         1\n",
            "Phantagram                         1\n",
            "Name: Publisher, Length: 578, dtype: int64\n",
            "578\n"
          ],
          "name": "stdout"
        }
      ]
    },
    {
      "cell_type": "code",
      "metadata": {
        "colab": {
          "base_uri": "https://localhost:8080/",
          "height": 297
        },
        "id": "kcuemopJUlzz",
        "outputId": "63e407fd-36b6-4012-8782-34b80e9086da"
      },
      "source": [
        "df.describe() # informacion basica de cada columna "
      ],
      "execution_count": null,
      "outputs": [
        {
          "output_type": "execute_result",
          "data": {
            "text/html": [
              "<div>\n",
              "<style scoped>\n",
              "    .dataframe tbody tr th:only-of-type {\n",
              "        vertical-align: middle;\n",
              "    }\n",
              "\n",
              "    .dataframe tbody tr th {\n",
              "        vertical-align: top;\n",
              "    }\n",
              "\n",
              "    .dataframe thead th {\n",
              "        text-align: right;\n",
              "    }\n",
              "</style>\n",
              "<table border=\"1\" class=\"dataframe\">\n",
              "  <thead>\n",
              "    <tr style=\"text-align: right;\">\n",
              "      <th></th>\n",
              "      <th>Rank</th>\n",
              "      <th>Year</th>\n",
              "      <th>NA_Sales</th>\n",
              "      <th>EU_Sales</th>\n",
              "      <th>JP_Sales</th>\n",
              "      <th>Other_Sales</th>\n",
              "      <th>Global_Sales</th>\n",
              "    </tr>\n",
              "  </thead>\n",
              "  <tbody>\n",
              "    <tr>\n",
              "      <th>count</th>\n",
              "      <td>16598.000000</td>\n",
              "      <td>16327.000000</td>\n",
              "      <td>16598.000000</td>\n",
              "      <td>16598.000000</td>\n",
              "      <td>16598.000000</td>\n",
              "      <td>16598.000000</td>\n",
              "      <td>16598.000000</td>\n",
              "    </tr>\n",
              "    <tr>\n",
              "      <th>mean</th>\n",
              "      <td>8300.605254</td>\n",
              "      <td>2006.406443</td>\n",
              "      <td>0.264667</td>\n",
              "      <td>0.146652</td>\n",
              "      <td>0.077782</td>\n",
              "      <td>0.048063</td>\n",
              "      <td>0.537441</td>\n",
              "    </tr>\n",
              "    <tr>\n",
              "      <th>std</th>\n",
              "      <td>4791.853933</td>\n",
              "      <td>5.828981</td>\n",
              "      <td>0.816683</td>\n",
              "      <td>0.505351</td>\n",
              "      <td>0.309291</td>\n",
              "      <td>0.188588</td>\n",
              "      <td>1.555028</td>\n",
              "    </tr>\n",
              "    <tr>\n",
              "      <th>min</th>\n",
              "      <td>1.000000</td>\n",
              "      <td>1980.000000</td>\n",
              "      <td>0.000000</td>\n",
              "      <td>0.000000</td>\n",
              "      <td>0.000000</td>\n",
              "      <td>0.000000</td>\n",
              "      <td>0.010000</td>\n",
              "    </tr>\n",
              "    <tr>\n",
              "      <th>25%</th>\n",
              "      <td>4151.250000</td>\n",
              "      <td>2003.000000</td>\n",
              "      <td>0.000000</td>\n",
              "      <td>0.000000</td>\n",
              "      <td>0.000000</td>\n",
              "      <td>0.000000</td>\n",
              "      <td>0.060000</td>\n",
              "    </tr>\n",
              "    <tr>\n",
              "      <th>50%</th>\n",
              "      <td>8300.500000</td>\n",
              "      <td>2007.000000</td>\n",
              "      <td>0.080000</td>\n",
              "      <td>0.020000</td>\n",
              "      <td>0.000000</td>\n",
              "      <td>0.010000</td>\n",
              "      <td>0.170000</td>\n",
              "    </tr>\n",
              "    <tr>\n",
              "      <th>75%</th>\n",
              "      <td>12449.750000</td>\n",
              "      <td>2010.000000</td>\n",
              "      <td>0.240000</td>\n",
              "      <td>0.110000</td>\n",
              "      <td>0.040000</td>\n",
              "      <td>0.040000</td>\n",
              "      <td>0.470000</td>\n",
              "    </tr>\n",
              "    <tr>\n",
              "      <th>max</th>\n",
              "      <td>16600.000000</td>\n",
              "      <td>2020.000000</td>\n",
              "      <td>41.490000</td>\n",
              "      <td>29.020000</td>\n",
              "      <td>10.220000</td>\n",
              "      <td>10.570000</td>\n",
              "      <td>82.740000</td>\n",
              "    </tr>\n",
              "  </tbody>\n",
              "</table>\n",
              "</div>"
            ],
            "text/plain": [
              "               Rank          Year  ...   Other_Sales  Global_Sales\n",
              "count  16598.000000  16327.000000  ...  16598.000000  16598.000000\n",
              "mean    8300.605254   2006.406443  ...      0.048063      0.537441\n",
              "std     4791.853933      5.828981  ...      0.188588      1.555028\n",
              "min        1.000000   1980.000000  ...      0.000000      0.010000\n",
              "25%     4151.250000   2003.000000  ...      0.000000      0.060000\n",
              "50%     8300.500000   2007.000000  ...      0.010000      0.170000\n",
              "75%    12449.750000   2010.000000  ...      0.040000      0.470000\n",
              "max    16600.000000   2020.000000  ...     10.570000     82.740000\n",
              "\n",
              "[8 rows x 7 columns]"
            ]
          },
          "metadata": {
            "tags": []
          },
          "execution_count": 22
        }
      ]
    },
    {
      "cell_type": "code",
      "metadata": {
        "colab": {
          "base_uri": "https://localhost:8080/"
        },
        "id": "pFuYxQmOXUJo",
        "outputId": "25192575-de71-46cc-c9da-d7db0c53296b"
      },
      "source": [
        "df.info() # Mas informacion sobre la data, esta vez con el numbero de datos no nulos"
      ],
      "execution_count": null,
      "outputs": [
        {
          "output_type": "stream",
          "text": [
            "<class 'pandas.core.frame.DataFrame'>\n",
            "RangeIndex: 16598 entries, 0 to 16597\n",
            "Data columns (total 11 columns):\n",
            " #   Column        Non-Null Count  Dtype  \n",
            "---  ------        --------------  -----  \n",
            " 0   Rank          16598 non-null  int64  \n",
            " 1   Name          16598 non-null  object \n",
            " 2   Platform      16598 non-null  object \n",
            " 3   Year          16327 non-null  float64\n",
            " 4   Genre         16598 non-null  object \n",
            " 5   Publisher     16540 non-null  object \n",
            " 6   NA_Sales      16598 non-null  float64\n",
            " 7   EU_Sales      16598 non-null  float64\n",
            " 8   JP_Sales      16598 non-null  float64\n",
            " 9   Other_Sales   16598 non-null  float64\n",
            " 10  Global_Sales  16598 non-null  float64\n",
            "dtypes: float64(6), int64(1), object(4)\n",
            "memory usage: 1.4+ MB\n"
          ],
          "name": "stdout"
        }
      ]
    },
    {
      "cell_type": "code",
      "metadata": {
        "colab": {
          "base_uri": "https://localhost:8080/"
        },
        "id": "9bSV_0NIX0TG",
        "outputId": "ca206117-1bd4-4be4-a4c5-09a31989c902"
      },
      "source": [
        "df.isnull().sum() # Verifica si hay datos nulos y si hay los contabiliza con el .sum()"
      ],
      "execution_count": null,
      "outputs": [
        {
          "output_type": "execute_result",
          "data": {
            "text/plain": [
              "Rank              0\n",
              "Name              0\n",
              "Platform          0\n",
              "Year            271\n",
              "Genre             0\n",
              "Publisher        58\n",
              "NA_Sales          0\n",
              "EU_Sales          0\n",
              "JP_Sales          0\n",
              "Other_Sales       0\n",
              "Global_Sales      0\n",
              "dtype: int64"
            ]
          },
          "metadata": {
            "tags": []
          },
          "execution_count": 26
        }
      ]
    },
    {
      "cell_type": "code",
      "metadata": {
        "colab": {
          "base_uri": "https://localhost:8080/"
        },
        "id": "d15VOI-ZYYXf",
        "outputId": "286c0581-aa8f-4cb8-9635-5598735e5c8a"
      },
      "source": [
        "df = df.dropna() # Borra las columnas o filas que tengan datos nulos\n",
        "df.info()"
      ],
      "execution_count": null,
      "outputs": [
        {
          "output_type": "stream",
          "text": [
            "<class 'pandas.core.frame.DataFrame'>\n",
            "Int64Index: 16291 entries, 0 to 16597\n",
            "Data columns (total 11 columns):\n",
            " #   Column        Non-Null Count  Dtype  \n",
            "---  ------        --------------  -----  \n",
            " 0   Rank          16291 non-null  int64  \n",
            " 1   Name          16291 non-null  object \n",
            " 2   Platform      16291 non-null  object \n",
            " 3   Year          16291 non-null  float64\n",
            " 4   Genre         16291 non-null  object \n",
            " 5   Publisher     16291 non-null  object \n",
            " 6   NA_Sales      16291 non-null  float64\n",
            " 7   EU_Sales      16291 non-null  float64\n",
            " 8   JP_Sales      16291 non-null  float64\n",
            " 9   Other_Sales   16291 non-null  float64\n",
            " 10  Global_Sales  16291 non-null  float64\n",
            "dtypes: float64(6), int64(1), object(4)\n",
            "memory usage: 1.5+ MB\n"
          ],
          "name": "stdout"
        }
      ]
    },
    {
      "cell_type": "code",
      "metadata": {
        "colab": {
          "base_uri": "https://localhost:8080/",
          "height": 863
        },
        "id": "3x1Ts449ZULq",
        "outputId": "4fce94a8-980c-45d6-e8b2-09029153a763"
      },
      "source": [
        "x = df.groupby(['Genre'])['Global_Sales'].sum().sort_values(ascending=False) # Agrupa los datos por genero y obtiene la suma de las global sales para ese genero\n",
        "plt.figure(figsize=(15,15))\n",
        "plt.bar(x.index, x)\n",
        "plt.show()"
      ],
      "execution_count": 57,
      "outputs": [
        {
          "output_type": "display_data",
          "data": {
            "image/png": "[encoded data removed]",
            "text/plain": [
              "<Figure size 1080x1080 with 1 Axes>"
            ]
          },
          "metadata": {
            "tags": [],
            "needs_background": "light"
          }
        }
      ]
    },
    {
      "cell_type": "code",
      "metadata": {
        "colab": {
          "base_uri": "https://localhost:8080/"
        },
        "id": "7SYHf56KcB1Z",
        "outputId": "208c9a19-3890-4983-d984-36e6df2b9735"
      },
      "source": [
        "df = df.dropna()\n",
        "df['Year'] = df['Year'].astype(int)\n",
        "\n",
        "# Respondiendo la primera pregunta\n",
        "\n",
        "# Pregunta 1\n",
        "\n",
        "region = ['NA_Sales', 'EU_Sales', 'JP_Sales']\n",
        "variables = ['Platform', 'Genre', 'Publisher']\n",
        "\n",
        "for i in region:\n",
        "  for j in variables:\n",
        "    k = df.groupby(j)[i].sum().sort_values(ascending=False).head(1)\n",
        "    print(k)\n",
        "\n"
      ],
      "execution_count": 64,
      "outputs": [
        {
          "output_type": "stream",
          "text": [
            "Platform\n",
            "X360    594.33\n",
            "Name: NA_Sales, dtype: float64\n",
            "Genre\n",
            "Action    861.77\n",
            "Name: NA_Sales, dtype: float64\n",
            "Publisher\n",
            "Nintendo    815.75\n",
            "Name: NA_Sales, dtype: float64\n",
            "Platform\n",
            "PS3    340.47\n",
            "Name: EU_Sales, dtype: float64\n",
            "Genre\n",
            "Action    516.48\n",
            "Name: EU_Sales, dtype: float64\n",
            "Publisher\n",
            "Nintendo    418.3\n",
            "Name: EU_Sales, dtype: float64\n",
            "Platform\n",
            "DS    175.02\n",
            "Name: JP_Sales, dtype: float64\n",
            "Genre\n",
            "Role-Playing    350.29\n",
            "Name: JP_Sales, dtype: float64\n",
            "Publisher\n",
            "Nintendo    454.99\n",
            "Name: JP_Sales, dtype: float64\n"
          ],
          "name": "stdout"
        }
      ]
    },
    {
      "cell_type": "code",
      "metadata": {
        "colab": {
          "base_uri": "https://localhost:8080/"
        },
        "id": "DoHbCWs4kvyn",
        "outputId": "13f45c51-778e-4973-e987-de80e0a2b4cd"
      },
      "source": [
        "#Pregunta 2 Juego mas popular por region\n",
        "\n",
        "region = ['NA_Sales', 'EU_Sales', 'JP_Sales']\n",
        "for i in region:\n",
        "  k = df.groupby('Name')[i].sum().sort_values(ascending=False).head(1)\n",
        "  print(k)"
      ],
      "execution_count": 68,
      "outputs": [
        {
          "output_type": "stream",
          "text": [
            "Name\n",
            "Wii Sports    41.49\n",
            "Name: NA_Sales, dtype: float64\n",
            "Name\n",
            "Wii Sports    29.02\n",
            "Name: EU_Sales, dtype: float64\n",
            "Name\n",
            "Pokemon Red/Pokemon Blue    10.22\n",
            "Name: JP_Sales, dtype: float64\n"
          ],
          "name": "stdout"
        }
      ]
    },
    {
      "cell_type": "code",
      "metadata": {
        "colab": {
          "base_uri": "https://localhost:8080/",
          "height": 286
        },
        "id": "vETFV8lqtCC_",
        "outputId": "62dea178-01b3-4372-96e6-5753efa7e9cd"
      },
      "source": [
        "# Pregunta 3 Tendencia en el tiempo de las ventas a nivel global\n",
        "\n",
        "y = df.groupby('Year')['Global_Sales'].sum()\n",
        "plt.figure()\n",
        "plt.title('Tendencia de las ventas globales', fontdict={'fontsize': 20})\n",
        "plt.bar(y.index, y)\n",
        "plt.show()\n",
        "\n",
        "# La ventas han ido al alza con s peak en el 2010"
      ],
      "execution_count": 76,
      "outputs": [
        {
          "output_type": "display_data",
          "data": {
            "image/png": "[encoded data removed]",
            "text/plain": [
              "<Figure size 432x288 with 1 Axes>"
            ]
          },
          "metadata": {
            "tags": [],
            "needs_background": "light"
          }
        }
      ]
    }
  ]
}